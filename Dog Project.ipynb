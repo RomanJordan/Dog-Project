{
 "cells": [
  {
   "cell_type": "code",
   "execution_count": 5,
   "metadata": {},
   "outputs": [
    {
     "data": {
      "text/plain": [
       "'C:\\\\Users\\\\J\\\\Desktop'"
      ]
     },
     "execution_count": 5,
     "metadata": {},
     "output_type": "execute_result"
    }
   ],
   "source": [
    "import numpy as np\n",
    "import pandas as pd\n",
    "import os\n",
    "os.getcwd()"
   ]
  },
  {
   "cell_type": "code",
   "execution_count": 15,
   "metadata": {},
   "outputs": [],
   "source": [
    "biteData = pd.read_csv('data/dog/dogbite.csv', delimiter=\",\")\n",
    "licenseData = pd.read_csv('data/dog/doglicense.csv', delimiter=\",\")"
   ]
  },
  {
   "cell_type": "code",
   "execution_count": 25,
   "metadata": {},
   "outputs": [
    {
     "name": "stdout",
     "output_type": "stream",
     "text": [
      "Shape of data:  (10280, 9)\n"
     ]
    },
    {
     "data": {
      "text/html": [
       "<div>\n",
       "<style scoped>\n",
       "    .dataframe tbody tr th:only-of-type {\n",
       "        vertical-align: middle;\n",
       "    }\n",
       "\n",
       "    .dataframe tbody tr th {\n",
       "        vertical-align: top;\n",
       "    }\n",
       "\n",
       "    .dataframe thead th {\n",
       "        text-align: right;\n",
       "    }\n",
       "</style>\n",
       "<table border=\"1\" class=\"dataframe\">\n",
       "  <thead>\n",
       "    <tr style=\"text-align: right;\">\n",
       "      <th></th>\n",
       "      <th>UniqueID</th>\n",
       "      <th>DateOfBite</th>\n",
       "      <th>Species</th>\n",
       "      <th>Breed</th>\n",
       "      <th>Age</th>\n",
       "      <th>Gender</th>\n",
       "      <th>SpayNeuter</th>\n",
       "      <th>Borough</th>\n",
       "      <th>ZipCode</th>\n",
       "    </tr>\n",
       "  </thead>\n",
       "  <tbody>\n",
       "    <tr>\n",
       "      <td>0</td>\n",
       "      <td>1</td>\n",
       "      <td>January 02 2015</td>\n",
       "      <td>DOG</td>\n",
       "      <td>Poodle, Standard</td>\n",
       "      <td>3</td>\n",
       "      <td>M</td>\n",
       "      <td>True</td>\n",
       "      <td>Brooklyn</td>\n",
       "      <td>11238</td>\n",
       "    </tr>\n",
       "    <tr>\n",
       "      <td>1</td>\n",
       "      <td>2</td>\n",
       "      <td>January 02 2015</td>\n",
       "      <td>DOG</td>\n",
       "      <td>HUSKY</td>\n",
       "      <td>NaN</td>\n",
       "      <td>U</td>\n",
       "      <td>False</td>\n",
       "      <td>Brooklyn</td>\n",
       "      <td>11249</td>\n",
       "    </tr>\n",
       "    <tr>\n",
       "      <td>2</td>\n",
       "      <td>3</td>\n",
       "      <td>January 02 2015</td>\n",
       "      <td>DOG</td>\n",
       "      <td>NaN</td>\n",
       "      <td>NaN</td>\n",
       "      <td>U</td>\n",
       "      <td>False</td>\n",
       "      <td>Brooklyn</td>\n",
       "      <td>NaN</td>\n",
       "    </tr>\n",
       "    <tr>\n",
       "      <td>3</td>\n",
       "      <td>4</td>\n",
       "      <td>January 01 2015</td>\n",
       "      <td>DOG</td>\n",
       "      <td>American Pit Bull Terrier/Pit Bull</td>\n",
       "      <td>6</td>\n",
       "      <td>M</td>\n",
       "      <td>False</td>\n",
       "      <td>Brooklyn</td>\n",
       "      <td>11221</td>\n",
       "    </tr>\n",
       "    <tr>\n",
       "      <td>4</td>\n",
       "      <td>5</td>\n",
       "      <td>January 03 2015</td>\n",
       "      <td>DOG</td>\n",
       "      <td>American Pit Bull Terrier/Pit Bull</td>\n",
       "      <td>1</td>\n",
       "      <td>M</td>\n",
       "      <td>False</td>\n",
       "      <td>Brooklyn</td>\n",
       "      <td>11207</td>\n",
       "    </tr>\n",
       "  </tbody>\n",
       "</table>\n",
       "</div>"
      ],
      "text/plain": [
       "   UniqueID       DateOfBite Species                               Breed  Age  \\\n",
       "0         1  January 02 2015     DOG                    Poodle, Standard    3   \n",
       "1         2  January 02 2015     DOG                               HUSKY  NaN   \n",
       "2         3  January 02 2015     DOG                                 NaN  NaN   \n",
       "3         4  January 01 2015     DOG  American Pit Bull Terrier/Pit Bull    6   \n",
       "4         5  January 03 2015     DOG  American Pit Bull Terrier/Pit Bull    1   \n",
       "\n",
       "  Gender  SpayNeuter   Borough ZipCode  \n",
       "0      M        True  Brooklyn   11238  \n",
       "1      U       False  Brooklyn   11249  \n",
       "2      U       False  Brooklyn     NaN  \n",
       "3      M       False  Brooklyn   11221  \n",
       "4      M       False  Brooklyn   11207  "
      ]
     },
     "execution_count": 25,
     "metadata": {},
     "output_type": "execute_result"
    }
   ],
   "source": [
    "print('Shape of biteData: ',biteData.shape)\n",
    "biteData.head()"
   ]
  },
  {
   "cell_type": "code",
   "execution_count": 24,
   "metadata": {},
   "outputs": [
    {
     "name": "stdout",
     "output_type": "stream",
     "text": [
      "Shape of data:  (345727, 10)\n"
     ]
    },
    {
     "data": {
      "text/html": [
       "<div>\n",
       "<style scoped>\n",
       "    .dataframe tbody tr th:only-of-type {\n",
       "        vertical-align: middle;\n",
       "    }\n",
       "\n",
       "    .dataframe tbody tr th {\n",
       "        vertical-align: top;\n",
       "    }\n",
       "\n",
       "    .dataframe thead th {\n",
       "        text-align: right;\n",
       "    }\n",
       "</style>\n",
       "<table border=\"1\" class=\"dataframe\">\n",
       "  <thead>\n",
       "    <tr style=\"text-align: right;\">\n",
       "      <th></th>\n",
       "      <th>RowNumber</th>\n",
       "      <th>AnimalName</th>\n",
       "      <th>AnimalGender</th>\n",
       "      <th>AnimalBirthMonth</th>\n",
       "      <th>BreedName</th>\n",
       "      <th>Borough</th>\n",
       "      <th>ZipCode</th>\n",
       "      <th>LicenseIssuedDate</th>\n",
       "      <th>LicenseExpiredDate</th>\n",
       "      <th>Extract Year</th>\n",
       "    </tr>\n",
       "  </thead>\n",
       "  <tbody>\n",
       "    <tr>\n",
       "      <td>0</td>\n",
       "      <td>1</td>\n",
       "      <td>PAIGE</td>\n",
       "      <td>F</td>\n",
       "      <td>2014</td>\n",
       "      <td>American Pit Bull Mix / Pit Bull Mix</td>\n",
       "      <td>NaN</td>\n",
       "      <td>10035</td>\n",
       "      <td>09/12/2014</td>\n",
       "      <td>09/12/2017</td>\n",
       "      <td>2016</td>\n",
       "    </tr>\n",
       "    <tr>\n",
       "      <td>1</td>\n",
       "      <td>2</td>\n",
       "      <td>YOGI</td>\n",
       "      <td>M</td>\n",
       "      <td>2010</td>\n",
       "      <td>Boxer</td>\n",
       "      <td>NaN</td>\n",
       "      <td>10465</td>\n",
       "      <td>09/12/2014</td>\n",
       "      <td>10/02/2017</td>\n",
       "      <td>2016</td>\n",
       "    </tr>\n",
       "    <tr>\n",
       "      <td>2</td>\n",
       "      <td>3</td>\n",
       "      <td>ALI</td>\n",
       "      <td>M</td>\n",
       "      <td>2014</td>\n",
       "      <td>Basenji</td>\n",
       "      <td>NaN</td>\n",
       "      <td>10013</td>\n",
       "      <td>09/12/2014</td>\n",
       "      <td>09/12/2019</td>\n",
       "      <td>2016</td>\n",
       "    </tr>\n",
       "    <tr>\n",
       "      <td>3</td>\n",
       "      <td>4</td>\n",
       "      <td>QUEEN</td>\n",
       "      <td>F</td>\n",
       "      <td>2013</td>\n",
       "      <td>Akita Crossbreed</td>\n",
       "      <td>NaN</td>\n",
       "      <td>10013</td>\n",
       "      <td>09/12/2014</td>\n",
       "      <td>09/12/2017</td>\n",
       "      <td>2016</td>\n",
       "    </tr>\n",
       "    <tr>\n",
       "      <td>4</td>\n",
       "      <td>5</td>\n",
       "      <td>LOLA</td>\n",
       "      <td>F</td>\n",
       "      <td>2009</td>\n",
       "      <td>Maltese</td>\n",
       "      <td>NaN</td>\n",
       "      <td>10028</td>\n",
       "      <td>09/12/2014</td>\n",
       "      <td>10/09/2017</td>\n",
       "      <td>2016</td>\n",
       "    </tr>\n",
       "  </tbody>\n",
       "</table>\n",
       "</div>"
      ],
      "text/plain": [
       "   RowNumber AnimalName AnimalGender  AnimalBirthMonth  \\\n",
       "0          1      PAIGE            F              2014   \n",
       "1          2       YOGI            M              2010   \n",
       "2          3        ALI            M              2014   \n",
       "3          4      QUEEN            F              2013   \n",
       "4          5       LOLA            F              2009   \n",
       "\n",
       "                              BreedName  Borough  ZipCode LicenseIssuedDate  \\\n",
       "0  American Pit Bull Mix / Pit Bull Mix      NaN    10035        09/12/2014   \n",
       "1                                 Boxer      NaN    10465        09/12/2014   \n",
       "2                               Basenji      NaN    10013        09/12/2014   \n",
       "3                      Akita Crossbreed      NaN    10013        09/12/2014   \n",
       "4                               Maltese      NaN    10028        09/12/2014   \n",
       "\n",
       "  LicenseExpiredDate  Extract Year  \n",
       "0         09/12/2017          2016  \n",
       "1         10/02/2017          2016  \n",
       "2         09/12/2019          2016  \n",
       "3         09/12/2017          2016  \n",
       "4         10/09/2017          2016  "
      ]
     },
     "execution_count": 24,
     "metadata": {},
     "output_type": "execute_result"
    }
   ],
   "source": [
    "print('Shape of licenseData: ',licenseData.shape)\n",
    "licenseData.head()"
   ]
  },
  {
   "cell_type": "markdown",
   "metadata": {},
   "source": [
    "## Cleaning data"
   ]
  },
  {
   "cell_type": "code",
   "execution_count": 28,
   "metadata": {},
   "outputs": [
    {
     "data": {
      "text/plain": [
       "UniqueID         0\n",
       "DateOfBite       0\n",
       "Species          0\n",
       "Breed         1588\n",
       "Age           4746\n",
       "Gender           0\n",
       "SpayNeuter       0\n",
       "Borough          0\n",
       "ZipCode       2667\n",
       "dtype: int64"
      ]
     },
     "execution_count": 28,
     "metadata": {},
     "output_type": "execute_result"
    }
   ],
   "source": [
    "pd.isnull(biteData).sum()"
   ]
  },
  {
   "cell_type": "code",
   "execution_count": 30,
   "metadata": {},
   "outputs": [
    {
     "data": {
      "text/plain": [
       "RowNumber                  0\n",
       "AnimalName               706\n",
       "AnimalGender              18\n",
       "AnimalBirthMonth           0\n",
       "BreedName                  0\n",
       "Borough               345727\n",
       "ZipCode                    0\n",
       "LicenseIssuedDate          0\n",
       "LicenseExpiredDate         0\n",
       "Extract Year               0\n",
       "dtype: int64"
      ]
     },
     "execution_count": 30,
     "metadata": {},
     "output_type": "execute_result"
    }
   ],
   "source": [
    "pd.isnull(licenseData).sum()"
   ]
  },
  {
   "cell_type": "code",
   "execution_count": 33,
   "metadata": {},
   "outputs": [
    {
     "data": {
      "text/plain": [
       "(4707, 9)"
      ]
     },
     "execution_count": 33,
     "metadata": {},
     "output_type": "execute_result"
    }
   ],
   "source": [
    "data1 = biteData.dropna()\n",
    "data1.shape"
   ]
  }
 ],
 "metadata": {
  "kernelspec": {
   "display_name": "Python 3",
   "language": "python",
   "name": "python3"
  },
  "language_info": {
   "codemirror_mode": {
    "name": "ipython",
    "version": 3
   },
   "file_extension": ".py",
   "mimetype": "text/x-python",
   "name": "python",
   "nbconvert_exporter": "python",
   "pygments_lexer": "ipython3",
   "version": "3.7.4"
  }
 },
 "nbformat": 4,
 "nbformat_minor": 2
}
